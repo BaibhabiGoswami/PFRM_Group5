{
  "nbformat": 4,
  "nbformat_minor": 0,
  "metadata": {
    "colab": {
      "provenance": []
    },
    "kernelspec": {
      "name": "python3",
      "display_name": "Python 3"
    },
    "language_info": {
      "name": "python"
    }
  },
  "cells": [
    {
      "cell_type": "code",
      "execution_count": null,
      "metadata": {
        "id": "Z5JjsfkBK_Bu"
      },
      "outputs": [],
      "source": [
        "import numpy as np\n",
        "import pandas as pd\n",
        "import matplotlib.pyplot as plt"
      ]
    },
    {
      "cell_type": "code",
      "source": [
        "df = pd.read_csv('FF-5-Factor(2x3)-orginal-cleaned.csv')"
      ],
      "metadata": {
        "id": "hgxCyl79MEA3"
      },
      "execution_count": null,
      "outputs": []
    },
    {
      "cell_type": "code",
      "source": [
        "df.keys()"
      ],
      "metadata": {
        "colab": {
          "base_uri": "https://localhost:8080/"
        },
        "id": "8kBMzgVKOZgb",
        "outputId": "3055ff50-006c-43ed-9553-a80a4f8bdc1a"
      },
      "execution_count": null,
      "outputs": [
        {
          "output_type": "execute_result",
          "data": {
            "text/plain": [
              "Index(['Time', 'Mkt-RF', 'SMB', 'HML', 'RMW', 'CMA', 'RF'], dtype='object')"
            ]
          },
          "metadata": {},
          "execution_count": 31
        }
      ]
    },
    {
      "cell_type": "code",
      "source": [
        "new_data = {}\n",
        "new_data['Time'] = list(range(196301, 196307))\n",
        "for k in df.keys():\n",
        "  if k!='Time':\n",
        "    new_data[k] = list(np.random.normal(df[k].mean(), df[k].std(), size=(6,)))\n",
        "new_data['RF'] = [0.25, 0.23, 0.23, 0.25, 0.24, 0.23]"
      ],
      "metadata": {
        "id": "tsKlZvVPQri0"
      },
      "execution_count": null,
      "outputs": []
    },
    {
      "cell_type": "code",
      "source": [
        "nd = pd.DataFrame(new_data)"
      ],
      "metadata": {
        "id": "zqAk_DKQSyqv"
      },
      "execution_count": null,
      "outputs": []
    },
    {
      "cell_type": "code",
      "source": [
        "x = nd.append(df)"
      ],
      "metadata": {
        "colab": {
          "base_uri": "https://localhost:8080/"
        },
        "id": "sxTHsBXDVTna",
        "outputId": "dc566b97-af20-40ef-da32-11f09b9bbec0"
      },
      "execution_count": null,
      "outputs": [
        {
          "output_type": "stream",
          "name": "stderr",
          "text": [
            "<ipython-input-83-79080f9f9f23>:1: FutureWarning: The frame.append method is deprecated and will be removed from pandas in a future version. Use pandas.concat instead.\n",
            "  x = nd.append(df)\n"
          ]
        }
      ]
    },
    {
      "cell_type": "code",
      "source": [
        "x.to_csv('new-timeseries.csv')"
      ],
      "metadata": {
        "id": "13MEWf6nVl4g"
      },
      "execution_count": null,
      "outputs": []
    }
  ]
}